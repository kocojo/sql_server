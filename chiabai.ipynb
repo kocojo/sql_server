{
 "cells": [
  {
   "cell_type": "code",
   "execution_count": 112,
   "id": "initial_id",
   "metadata": {
    "collapsed": true,
    "ExecuteTime": {
     "end_time": "2024-05-10T17:34:51.732149700Z",
     "start_time": "2024-05-10T17:34:51.681702300Z"
    }
   },
   "outputs": [
    {
     "name": "stdout",
     "output_type": "stream",
     "text": [
      "[4, 3, 1, 9, 5, 6, 7, 10, 2, 8]\n",
      "0.12\n"
     ]
    }
   ],
   "source": [
    "import random\n",
    "a = [1,2,3,4,5,6,7,8,9,10]\n",
    "random.shuffle(a)\n",
    "print(a)\n",
    "count = 0\n",
    "for j in range(10000):\n",
    "    test = True\n",
    "    for i in range(1,11):\n",
    "        b = random.sample(a,5)\n",
    "        if i in b:\n",
    "            pass\n",
    "        else:\n",
    "            test = False\n",
    "            break\n",
    "    if test:\n",
    "        count +=1\n",
    "print(count/10000*100)\n",
    "        \n",
    "        "
   ]
  },
  {
   "cell_type": "code",
   "execution_count": 1,
   "outputs": [
    {
     "name": "stdout",
     "output_type": "stream",
     "text": [
      "0.44999999999999996\n",
      "45\n"
     ]
    }
   ],
   "source": [
    "import random\n",
    "a = [1,2,3,4,5,6,7,8,9,10]\n",
    "random.shuffle(a)\n",
    "count = 0\n",
    "t = 1\n",
    "for j in range(10000):\n",
    "    test = True\n",
    "    random.shuffle(a)\n",
    "    for i in range(1,11):\n",
    "        b = a[0:5] if t == 1 else a[5:10]\n",
    "        t = t*-1\n",
    "        if i in b:\n",
    "            pass\n",
    "        else:\n",
    "            test = False\n",
    "            break\n",
    "    if test:\n",
    "        count +=1\n",
    "print(count/10000*100)\n",
    "print(count)"
   ],
   "metadata": {
    "collapsed": false,
    "ExecuteTime": {
     "end_time": "2024-05-10T16:54:05.851462300Z",
     "start_time": "2024-05-10T16:54:05.806648500Z"
    }
   },
   "id": "853c8b0431ae20f5"
  },
  {
   "cell_type": "code",
   "execution_count": 59,
   "outputs": [],
   "source": [
    "import random\n",
    "a = [1,2,3,4,5,6,7,8,9,10]\n",
    "random.shuffle(a)\n",
    "count = 0\n",
    "t = 1\n",
    "for j in range(10000):\n",
    "    test = True\n",
    "    random.shuffle(a)\n",
    "    for i in range(1,11):\n",
    "        b = a[0:5] if t == 1 else a[5:10]\n",
    "        t = t*-1\n",
    "        if i in b:\n",
    "            pass\n",
    "        else:\n",
    "            test = False\n",
    "            break\n",
    "    if test:\n",
    "        count +=1\n",
    "print(count/10000*100)\n",
    "print(count)"
   ],
   "metadata": {
    "collapsed": false,
    "ExecuteTime": {
     "end_time": "2024-05-08T13:03:02.211459900Z",
     "start_time": "2024-05-08T13:03:02.208937200Z"
    }
   },
   "id": "69aef44865426e4"
  },
  {
   "cell_type": "code",
   "execution_count": 7,
   "outputs": [
    {
     "name": "stderr",
     "output_type": "stream",
     "text": [
      "IOPub data rate exceeded.\n",
      "The notebook server will temporarily stop sending output\n",
      "to the client in order to avoid crashing it.\n",
      "To change this limit, set the config variable\n",
      "`--NotebookApp.iopub_data_rate_limit`.\n",
      "\n",
      "Current values:\n",
      "NotebookApp.iopub_data_rate_limit=1000000.0 (bytes/sec)\n",
      "NotebookApp.rate_limit_window=3.0 (secs)\n",
      "\n"
     ]
    }
   ],
   "source": [
    "#con cac dit me may\n",
    "def de(b:list,n):\n",
    "    c = []\n",
    "    if n != 0: \n",
    "        for i in b:\n",
    "            x = b.copy()\n",
    "            x.remove(i)\n",
    "            y = de(x,n-1)\n",
    "            for j in y:\n",
    "                j.insert(0,i)\n",
    "                c.append(j)\n",
    "    else:\n",
    "        for i in b:\n",
    "            c.append([i])\n",
    "    return c\n",
    "           \n",
    "def lay():\n",
    "    a = []\n",
    "    b = [1,2,3,4,5,6,7,8,9,10]\n",
    "    print(de(b,5))"
   ],
   "metadata": {
    "collapsed": false,
    "ExecuteTime": {
     "end_time": "2024-05-10T13:36:07.365849300Z",
     "start_time": "2024-05-10T13:36:07.104504700Z"
    }
   },
   "id": "5abe36906544fcd9"
  },
  {
   "cell_type": "code",
   "execution_count": 126,
   "outputs": [
    {
     "name": "stdout",
     "output_type": "stream",
     "text": [
      "0\n"
     ]
    }
   ],
   "source": [],
   "metadata": {
    "collapsed": false,
    "ExecuteTime": {
     "end_time": "2024-05-10T17:38:59.938680700Z",
     "start_time": "2024-05-10T17:38:59.897192Z"
    }
   },
   "id": "d39449843581e586"
  },
  {
   "cell_type": "code",
   "execution_count": 141,
   "outputs": [
    {
     "name": "stdout",
     "output_type": "stream",
     "text": [
      "24\n"
     ]
    }
   ],
   "source": [
    "import random\n",
    "a = [[1,2,3,4,10],[6,7,8,9,5],[1,2,3,4,5],[6,7,8,9,10],[1,2,3,4,5],[6,7,8,9,10],[1,2,3,4,5],[6,7,8,9,10],[1,2,3,4,5],[6,7,8,9,10]]\n",
    "b = [1, 2, 3, 4, 5, 6, 7, 8, 9, 10]\n",
    "max = 0\n",
    "r = []\n",
    "y = []\n",
    "count = 0\n",
    "for k in range(10000):\n",
    "   random.shuffle(b)\n",
    "   test1 = True\n",
    "   for i in range(1,11):\n",
    "        test = False\n",
    "        for k in a[i-1]:\n",
    "            if b[k-1] == i:\n",
    "                test = True\n",
    "                break\n",
    "        if not test:\n",
    "            test1 = False\n",
    "            break\n",
    "   if test1:\n",
    "       count +=1\n",
    "print(count)"
   ],
   "metadata": {
    "collapsed": false,
    "ExecuteTime": {
     "end_time": "2024-05-11T02:40:54.502454700Z",
     "start_time": "2024-05-11T02:40:54.461013700Z"
    }
   },
   "id": "b01a59d53acffa10"
  },
  {
   "cell_type": "code",
   "execution_count": null,
   "outputs": [],
   "source": [],
   "metadata": {
    "collapsed": false
   },
   "id": "2a53f3084ccc627"
  }
 ],
 "metadata": {
  "kernelspec": {
   "display_name": "Python 3",
   "language": "python",
   "name": "python3"
  },
  "language_info": {
   "codemirror_mode": {
    "name": "ipython",
    "version": 2
   },
   "file_extension": ".py",
   "mimetype": "text/x-python",
   "name": "python",
   "nbconvert_exporter": "python",
   "pygments_lexer": "ipython2",
   "version": "2.7.6"
  }
 },
 "nbformat": 4,
 "nbformat_minor": 5
}
